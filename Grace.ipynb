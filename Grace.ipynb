{
 "cells": [
  {
   "cell_type": "code",
   "execution_count": null,
   "id": "d52d45e0-c6c5-4e55-8170-c3104252975d",
   "metadata": {},
   "outputs": [],
   "source": [
    "%%manim -ql SolveEquation\n",
    "\n",
    "from manim import *\n",
    "\n",
    "class SolveEquation(Scene):\n",
    "    def construct(self):\n",
    "        prompt = Text(\"Solve for x in the following equation:\")\n",
    "        self.play(Write(prompt))\n",
    "        self.wait(2)\n",
    "        self.play(FadeOut(prompt))\n",
    "\n",
    "        eq = MathTex(\"2(x - 3)^2 + 5 = 23\")\n",
    "        self.play(FadeIn(eq))\n",
    "        self.wait(1)\n",
    "\n",
    "        desc = Text(\"Isolate the term containing x.\").next_to(eq, DOWN)\n",
    "        self.play(Write(desc))\n",
    "        self.wait(1)\n",
    "\n",
    "        self.play(Transform(eq, MathTex(\"2(x - 3)^2 = 23 - 5\").move_to(eq)))\n",
    "        self.wait(1)\n",
    "        self.play(Transform(eq, MathTex(\"2(x - 3)^2 = 18\").move_to(eq)))\n",
    "        self.wait(1)\n",
    "\n",
    "        self.play(Transform(desc, Text(\"Divide by 2.\").next_to(eq, DOWN)))\n",
    "        self.wait(1)\n",
    "        self.play(Transform(eq, MathTex(\"(x - 3)^2 = \\\\frac{18}{2}\").move_to(eq)))\n",
    "        self.wait(1)\n",
    "        self.play(Transform(eq, MathTex(\"(x - 3)^2 = 9\").move_to(eq)))\n",
    "        self.wait(1)\n",
    "\n",
    "        self.play(Transform(desc, Text(\"Take the square root of both sides of the equation.\").scale(0.9).next_to(eq, DOWN)))\n",
    "        self.wait(1)\n",
    "        self.play(Transform(eq, MathTex(\"\\\\sqrt{(x - 3)^2} = \\\\sqrt{9}\").move_to(eq)))\n",
    "        self.wait(1)\n",
    "        self.play(Transform(eq, MathTex(\"|x - 3| = 3\").move_to(eq)))\n",
    "        self.wait(1)\n",
    "\n",
    "        self.play(Transform(desc, Text(\"Split into two cases.\").next_to(eq, DOWN)))\n",
    "        self.wait(1)\n",
    "        eq_cases = VGroup(\n",
    "            MathTex(\"x - 3 = 3\"),\n",
    "            MathTex(\"x - 3 = -3\")\n",
    "        ).arrange(DOWN, aligned_edge=LEFT).move_to(eq)\n",
    "        self.play(Transform(eq, eq_cases))\n",
    "        self.wait(1)\n",
    "\n",
    "        self.play(Transform(desc, Text(\"Add 3 to both sides to solve for x.\").next_to(eq, DOWN)))\n",
    "        self.wait(1)\n",
    "        solns = VGroup(\n",
    "            MathTex(\"x = 6\"),\n",
    "            MathTex(\"x = 0\")\n",
    "        ).arrange(DOWN, aligned_edge=LEFT).move_to(eq)\n",
    "        self.play(Transform(eq, solns))\n",
    "        self.wait(2)\n",
    "\n",
    "        self.play(FadeOut(eq), FadeOut(desc))\n"
   ]
  },
  {
   "cell_type": "code",
   "execution_count": null,
   "id": "1a9aa4c2-673e-4852-b2dd-fb26eec6ebf7",
   "metadata": {},
   "outputs": [],
   "source": [
    "from manim import *"
   ]
  },
  {
   "cell_type": "code",
   "execution_count": null,
   "id": "fd3153a3-713b-4912-9e71-95dcc9f20864",
   "metadata": {},
   "outputs": [],
   "source": [
    "#ignore this cell, only for setup\n",
    "param = \"-v WARNING -r 500,100 -s  --disable_caching Example\"\n",
    "parambigger = \"-v WARNING -r 500,120 -s  --disable_caching Example\"\n"
   ]
  },
  {
   "cell_type": "code",
   "execution_count": null,
   "id": "9e4aa878-db51-40f5-8ab3-429dd2d9608b",
   "metadata": {},
   "outputs": [],
   "source": []
  }
 ],
 "metadata": {
  "kernelspec": {
   "display_name": "Python 3 (ipykernel)",
   "language": "python",
   "name": "python3"
  },
  "language_info": {
   "codemirror_mode": {
    "name": "ipython",
    "version": 3
   },
   "file_extension": ".py",
   "mimetype": "text/x-python",
   "name": "python",
   "nbconvert_exporter": "python",
   "pygments_lexer": "ipython3",
   "version": "3.12.10"
  }
 },
 "nbformat": 4,
 "nbformat_minor": 5
}
