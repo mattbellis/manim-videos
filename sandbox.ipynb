{
 "cells": [
  {
   "cell_type": "markdown",
   "id": "4ccf4a62",
   "metadata": {},
   "source": [
    "# Flying Frames examples\n",
    "\n",
    "https://flyingframes.readthedocs.io/en/latest/ch3.html\n",
    "\n",
    "Installed from \"Install plugins\" here\n",
    "\n",
    "https://flyingframes.readthedocs.io/en/latest/ch1.html\n",
    "\n",
    "```\n",
    "!pip install manim-physics\n",
    "```"
   ]
  },
  {
   "cell_type": "code",
   "execution_count": 1,
   "id": "92d10b5c",
   "metadata": {},
   "outputs": [],
   "source": [
    "from manim import *\n",
    "config.media_embed = True"
   ]
  },
  {
   "cell_type": "code",
   "execution_count": 2,
   "id": "0b4b25f4",
   "metadata": {},
   "outputs": [],
   "source": [
    "#ignore this cell, only for setup\n",
    "param = \"-v WARNING -r 500,100 -s  --disable_caching Example\"\n",
    "parambigger = \"-v WARNING -r 500,120 -s  --disable_caching Example\"\n"
   ]
  },
  {
   "cell_type": "code",
   "execution_count": 3,
   "id": "340e0b5a",
   "metadata": {},
   "outputs": [],
   "source": [
    "dORIGIN= Dot(color= BLUE,radius=0.5)\n"
   ]
  },
  {
   "cell_type": "code",
   "execution_count": 4,
   "id": "a60d6de7",
   "metadata": {},
   "outputs": [
    {
     "data": {
      "text/html": [
       "<pre style=\"white-space:pre;overflow-x:auto;line-height:normal;font-family:Menlo,'DejaVu Sans Mono',consolas,'Courier New',monospace\">Manim Community <span style=\"color: #008000; text-decoration-color: #008000\">v0.19.0</span>\n",
       "\n",
       "</pre>\n"
      ],
      "text/plain": [
       "Manim Community \u001b[32mv0.\u001b[0m\u001b[32m19.0\u001b[0m\n",
       "\n"
      ]
     },
     "metadata": {},
     "output_type": "display_data"
    },
    {
     "data": {
      "image/png": "[encoded data removed]",
      "text/plain": [
       "<IPython.core.display.Image object>"
      ]
     },
     "metadata": {},
     "output_type": "display_data"
    }
   ],
   "source": [
    "%%manim $param\n",
    "class Example(Scene):\n",
    "    def construct(self):\n",
    "        d= Dot(color= YELLOW, radius=0.5)\n",
    "        d.shift(2*RIGHT)\n",
    "        self.add(dORIGIN, d)"
   ]
  },
  {
   "cell_type": "code",
   "execution_count": 5,
   "id": "e5f85b82",
   "metadata": {},
   "outputs": [
    {
     "data": {
      "text/html": [
       "<pre style=\"white-space:pre;overflow-x:auto;line-height:normal;font-family:Menlo,'DejaVu Sans Mono',consolas,'Courier New',monospace\">Manim Community <span style=\"color: #008000; text-decoration-color: #008000\">v0.19.0</span>\n",
       "\n",
       "</pre>\n"
      ],
      "text/plain": [
       "Manim Community \u001b[32mv0.\u001b[0m\u001b[32m19.0\u001b[0m\n",
       "\n"
      ]
     },
     "metadata": {},
     "output_type": "display_data"
    },
    {
     "data": {
      "image/png": "[encoded data removed]",
      "text/plain": [
       "<IPython.core.display.Image object>"
      ]
     },
     "metadata": {},
     "output_type": "display_data"
    }
   ],
   "source": [
    "%%manim $param\n",
    "class Example(Scene):\n",
    "    def construct(self):\n",
    "        d= Dot(color= YELLOW, radius=0.5)\n",
    "        d.shift(3*RIGHT+0.8*UP)\n",
    "        self.add(dORIGIN, d)"
   ]
  },
  {
   "cell_type": "code",
   "execution_count": 6,
   "id": "a16db76f",
   "metadata": {},
   "outputs": [],
   "source": [
    "arc= Arc(radius=1.0, start_angle=-PI/16, angle=PI, stroke_width=10)\n",
    "d=Dot(color= YELLOW, radius=0.2)\n"
   ]
  },
  {
   "cell_type": "code",
   "execution_count": 7,
   "id": "12bbbae0",
   "metadata": {},
   "outputs": [
    {
     "data": {
      "text/html": [
       "<pre style=\"white-space:pre;overflow-x:auto;line-height:normal;font-family:Menlo,'DejaVu Sans Mono',consolas,'Courier New',monospace\">Manim Community <span style=\"color: #008000; text-decoration-color: #008000\">v0.19.0</span>\n",
       "\n",
       "</pre>\n"
      ],
      "text/plain": [
       "Manim Community \u001b[32mv0.\u001b[0m\u001b[32m19.0\u001b[0m\n",
       "\n"
      ]
     },
     "metadata": {},
     "output_type": "display_data"
    },
    {
     "data": {
      "image/png": "[encoded data removed]",
      "text/plain": [
       "<IPython.core.display.Image object>"
      ]
     },
     "metadata": {},
     "output_type": "display_data"
    }
   ],
   "source": [
    "%%manim $param\n",
    "class Example(Scene):\n",
    "    def construct(self):\n",
    "        pos= arc.get_midpoint()\n",
    "        self.add(arc, d.move_to(pos))"
   ]
  },
  {
   "cell_type": "code",
   "execution_count": 8,
   "id": "0e42dda1",
   "metadata": {},
   "outputs": [
    {
     "data": {
      "text/html": [
       "<pre style=\"white-space:pre;overflow-x:auto;line-height:normal;font-family:Menlo,'DejaVu Sans Mono',consolas,'Courier New',monospace\">Manim Community <span style=\"color: #008000; text-decoration-color: #008000\">v0.19.0</span>\n",
       "\n",
       "</pre>\n"
      ],
      "text/plain": [
       "Manim Community \u001b[32mv0.\u001b[0m\u001b[32m19.0\u001b[0m\n",
       "\n"
      ]
     },
     "metadata": {},
     "output_type": "display_data"
    },
    {
     "data": {
      "image/png": "[encoded data removed]",
      "text/plain": [
       "<IPython.core.display.Image object>"
      ]
     },
     "metadata": {},
     "output_type": "display_data"
    }
   ],
   "source": [
    "%%manim $param\n",
    "class Example(Scene):\n",
    "    def construct(self):\n",
    "        d= Dot(color= YELLOW)\n",
    "        d.scale(10)\n",
    "        self.add(d)"
   ]
  },
  {
   "cell_type": "code",
   "execution_count": 9,
   "id": "41508e12",
   "metadata": {},
   "outputs": [
    {
     "data": {
      "text/html": [
       "<pre style=\"white-space:pre;overflow-x:auto;line-height:normal;font-family:Menlo,'DejaVu Sans Mono',consolas,'Courier New',monospace\">Manim Community <span style=\"color: #008000; text-decoration-color: #008000\">v0.19.0</span>\n",
       "\n",
       "</pre>\n"
      ],
      "text/plain": [
       "Manim Community \u001b[32mv0.\u001b[0m\u001b[32m19.0\u001b[0m\n",
       "\n"
      ]
     },
     "metadata": {},
     "output_type": "display_data"
    },
    {
     "data": {
      "image/png": "[encoded data removed]",
      "text/plain": [
       "<IPython.core.display.Image object>"
      ]
     },
     "metadata": {},
     "output_type": "display_data"
    }
   ],
   "source": [
    "%%manim $param\n",
    "class Example(Scene):\n",
    "    def construct(self):\n",
    "        d= Dot(color= YELLOW)\n",
    "        d.scale(10)\n",
    "        d.stretch(4, dim = 0) # dim = 0 means vertical\n",
    "        self.add(d)"
   ]
  },
  {
   "cell_type": "code",
   "execution_count": 10,
   "id": "bcfe2874",
   "metadata": {},
   "outputs": [],
   "source": [
    "#only for setup\n",
    "def create_dots():\n",
    "    blue1_ref= Dot(color= BLUE,       point=[-.3,-.5,0], radius=0.5)\n",
    "    blue2_ref= Dot(color= BLUE_A,     point=[ .3,-.5,0], radius=0.5)\n",
    "    yellow1_ref= Dot(color= YELLOW,   point=[-.3, .5,0], radius=0.5)\n",
    "    yellow2_ref= Dot(color= YELLOW_A, point=[ .3, .5,0], radius=0.5)\n",
    "    return blue1_ref, blue2_ref,yellow1_ref,yellow2_ref"
   ]
  },
  {
   "cell_type": "code",
   "execution_count": 11,
   "id": "d946e546",
   "metadata": {},
   "outputs": [
    {
     "data": {
      "text/html": [
       "<pre style=\"white-space:pre;overflow-x:auto;line-height:normal;font-family:Menlo,'DejaVu Sans Mono',consolas,'Courier New',monospace\">Manim Community <span style=\"color: #008000; text-decoration-color: #008000\">v0.19.0</span>\n",
       "\n",
       "</pre>\n"
      ],
      "text/plain": [
       "Manim Community \u001b[32mv0.\u001b[0m\u001b[32m19.0\u001b[0m\n",
       "\n"
      ]
     },
     "metadata": {},
     "output_type": "display_data"
    },
    {
     "data": {
      "image/png": "[encoded data removed]",
      "text/plain": [
       "<IPython.core.display.Image object>"
      ]
     },
     "metadata": {},
     "output_type": "display_data"
    }
   ],
   "source": [
    "%%manim $param\n",
    "blue1,blue2, yellow1,yellow2 = create_dots()\n",
    "class Example(Scene):  # using VMobject instead\n",
    "    def construct(self):\n",
    "        g= VMobject()\n",
    "        g.add(yellow1,yellow2,blue1,blue2)\n",
    "        g.set_stroke(color=PURPLE_D, width=20)\n",
    "        self.add(g)"
   ]
  },
  {
   "cell_type": "markdown",
   "id": "13eca3c0",
   "metadata": {},
   "source": [
    "# Animations\n",
    "\n",
    "https://flyingframes.readthedocs.io/en/latest/ch4.html"
   ]
  },
  {
   "cell_type": "code",
   "execution_count": 14,
   "id": "8c21901e",
   "metadata": {},
   "outputs": [],
   "source": [
    "#ignore this cell, only for setup\n",
    "from manim import *\n",
    "config.media_embed = True\n",
    "\n",
    "param= \"-v WARNING  --progress_bar None  -r  500,200  --disable_caching Example\"\n",
    "\n",
    "NO  = Cross(Square(), stroke_color = RED_D, stroke_width = 38).scale(0.9).to_edge(LEFT, buff=1)\n",
    "#YES = SVGMobject(\"good.svg\").to_edge(LEFT, buff=1)\n",
    "#BEST = YES.copy()\n",
    "#BEST.add(Star(color= YELLOW, fill_opacity=1).scale(0.5).move_to(BEST).shift(0.5*DOWN+0.5*RIGHT));"
   ]
  },
  {
   "cell_type": "code",
   "execution_count": 15,
   "id": "2fa1dceb",
   "metadata": {},
   "outputs": [
    {
     "data": {
      "text/html": [
       "<pre style=\"white-space:pre;overflow-x:auto;line-height:normal;font-family:Menlo,'DejaVu Sans Mono',consolas,'Courier New',monospace\">Manim Community <span style=\"color: #008000; text-decoration-color: #008000\">v0.19.0</span>\n",
       "\n",
       "</pre>\n"
      ],
      "text/plain": [
       "Manim Community \u001b[32mv0.\u001b[0m\u001b[32m19.0\u001b[0m\n",
       "\n"
      ]
     },
     "metadata": {},
     "output_type": "display_data"
    },
    {
     "data": {
      "text/html": [
       "<video controls autoplay loop style=\"max-width: 60%;\"  >\n",
       " <source src=\"data:video/mp4;base64,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\" type=\"video/mp4\">\n",
       " Your browser does not support the video tag.\n",
       " </video>"
      ],
      "text/plain": [
       "<IPython.core.display.Video object>"
      ]
     },
     "metadata": {},
     "output_type": "display_data"
    }
   ],
   "source": [
    "%%manim $param\n",
    "class Example(Scene):\n",
    "    def construct(self):\n",
    "        dot= Dot(color= YELLOW, radius=0.5)\n",
    "        self.add(dot)\n",
    "        self.wait()\n",
    "        dot.scale(2)\n",
    "        self.wait()\n",
    "        dot.scale(2)\n",
    "        self.wait(2)"
   ]
  },
  {
   "cell_type": "code",
   "execution_count": null,
   "id": "0697f3f3",
   "metadata": {},
   "outputs": [],
   "source": [
    "%%manim $param\n",
    "class Example(Scene):\n",
    "    def construct(self):\n",
    "        dot= Dot(color= YELLOW, radius=0.5)\n",
    "        self.play(dot.animate.scale(2))"
   ]
  },
  {
   "cell_type": "markdown",
   "id": "09496599",
   "metadata": {},
   "source": [
    "# Text examples"
   ]
  },
  {
   "cell_type": "code",
   "execution_count": null,
   "id": "1102a595",
   "metadata": {},
   "outputs": [],
   "source": [
    "mob = MathTex(r\"e^x\", substrings_to_isolate=\"x\")  \n",
    "mob.set_color_by_tex(\"x\", YELLOW)  "
   ]
  },
  {
   "cell_type": "code",
   "execution_count": null,
   "id": "5f40a387",
   "metadata": {},
   "outputs": [],
   "source": [
    "%%manim $param\n",
    "class Example(Scene):\n",
    "    def construct(self):\n",
    "        #mob = MathTex(r\"e^x\", substrings_to_isolate=\"x\")  \n",
    "        #mob.set_color_by_tex(\"x\", YELLOW)  \n",
    "        \n",
    "        mob = MathTex(\"E^2 = (mc)^2 + ((p_xc)^2 + (p_yc)^2 + (p_zc)^2)\", substrings_to_isolate=\"c\", font_size=72)\n",
    "        self.add(mob)\n",
    "        self.wait(5)\n",
    "        \n",
    "        mob.set_color_by_tex(\"c\",PINK)\n",
    "        self.add(mob)\n",
    "        self.wait(5)\n",
    "        \n",
    "        #mob2 = MathTex(\"E^2 = (m\",\"c)^2 + ((p_xc)^2 + (p_yc)^2 + (p_zc)^2)\", font_size=72)\n",
    "\n",
    "        #self.play(FadeOut(mob))\n",
    "        \n",
    "        mob2 = MathTex(\"E^2 = m^2 + (p_x^2 + p_y^2 + p_z^2)\", substrings_to_isolate=\"c\", font_size=72)\n",
    "        #self.play(FadeOut(mob),FadeIn(mob2))\n",
    "        self.play(FadeTransform(mob,mob2))\n",
    "\n",
    "        \n",
    "        #self.add(mob)\n",
    "        self.wait(5)\n",
    "\n",
    "        mob3 = MathTex(\"E^2 = m^2 + p^2\", substrings_to_isolate=\"c\", font_size=72)\n",
    "        self.play(FadeTransform(mob2,mob3))\n",
    "        self.wait(5)\n",
    "        \n",
    " \n",
    "        self.play(FadeTransform(mob3,mob2))\n",
    "        self.wait(2)       \n",
    "\n",
    "        self.play(FadeTransform(mob2,mob3))\n",
    "        self.wait(2)       \n"
   ]
  },
  {
   "cell_type": "code",
   "execution_count": null,
   "id": "c7140b14",
   "metadata": {},
   "outputs": [],
   "source": []
  },
  {
   "cell_type": "code",
   "execution_count": null,
   "id": "a5d97a81-e229-4d49-9ee1-a40099ac2054",
   "metadata": {},
   "outputs": [],
   "source": []
  }
 ],
 "metadata": {
  "kernelspec": {
   "display_name": "Python 3 (ipykernel)",
   "language": "python",
   "name": "python3"
  },
  "language_info": {
   "codemirror_mode": {
    "name": "ipython",
    "version": 3
   },
   "file_extension": ".py",
   "mimetype": "text/x-python",
   "name": "python",
   "nbconvert_exporter": "python",
   "pygments_lexer": "ipython3",
   "version": "3.12.10"
  }
 },
 "nbformat": 4,
 "nbformat_minor": 5
}
